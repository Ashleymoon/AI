{
 "cells": [
  {
   "cell_type": "markdown",
   "metadata": {},
   "source": [
    "# Introduction to Artificial Intelligence for Non Computing"
   ]
  },
  {
   "cell_type": "markdown",
   "metadata": {},
   "source": [
    "## Practical 2 (weeks 3 - 4)"
   ]
  },
  {
   "cell_type": "markdown",
   "metadata": {},
   "source": [
    "## Search Techniques"
   ]
  },
  {
   "cell_type": "markdown",
   "metadata": {},
   "source": [
    "The following links provide additional information about depth first search and breath first search"
   ]
  },
  {
   "cell_type": "markdown",
   "metadata": {},
   "source": [
    "- Depth first search:   link：https://pan.baidu.com/s/1bkLHKKbSBNpfFuKwDyURqw  password：oy76\n",
    "- Breath first search:  link：https://pan.baidu.com/s/176g5q0W3rGbSAM5tZMraeg   password：7mdh"
   ]
  },
  {
   "cell_type": "markdown",
   "metadata": {},
   "source": [
    "#### Theory Questions "
   ]
  },
  {
   "cell_type": "markdown",
   "metadata": {},
   "source": [
    "1\\. What is an algorithm? A sequence of steps such as a recipe or a movie script.\n",
    "\n",
    "As a movie viewer, please write an algorithm for a process to \"see a movie\". Include details of the following for example (add additional information yourself):\n",
    "\t- The start conditions \n",
    "\t-- I want to watch a movie\n",
    "\t- Roles (people/actors involved) \n",
    "    --watcher, ticket seller etc \n",
    "    -Equipment required (\"props\")\n",
    "    --seats, ticket etc\n",
    "    - The scenes \n",
    "    -- scene 1 - buy ticket \n",
    "    -- ??? what happens next\n",
    "    -- scene 3, scene 3 ...\n",
    "    - Results/outcomes\n",
    "    -- ?\n"
   ]
  },
  {
   "cell_type": "markdown",
   "metadata": {},
   "source": [
    "_your answer here..._ \n",
    "\n",
    "***\n",
    "Screenplay:\n",
    "(1) the conditions of play the movie:\n",
    "    (a) I want to see a movie\n",
    "    (b) I have enough money to buy a movie tickett.\n",
    "\n",
    "(2) role\n",
    "    I, the conductor, the projector, the doorman\n",
    "\n",
    "(3) props: Movie tickets, chaits, projection equipment     (screens,video cameras), money\n",
    "\n",
    "(4) the scene\n",
    "Scene one: buy a ticket\n",
    "    (a)I walked to the ticket office and take out the money to the conducter.\n",
    "    (b)the conductor took the money and gave me a movie ticket.\n",
    "Scene two: go to the cinema\n",
    "    (a)I took the ticket, walked into the entrance, and took out the ticket for the doorman.\n",
    "    (b)the doorman let me in.    \n",
    "Scene three: waiting for the movie to start, I find my seat and sit down.\n",
    "Scene four: see a movie\n",
    "    (a)the movie started\n",
    "    (b)I was deeply attracted by the story and absorbed in the movie.\n",
    "Scene five: the film is finished\n",
    "    (a)the film is over\n",
    "    (b)I left the cinema with others.\n",
    "   \n",
    "(5)results\n",
    "    (a)I had a good mood\n",
    "    (b)I spent the money\n",
    "    (c)the cinema earned money"
   ]
  },
  {
   "cell_type": "markdown",
   "metadata": {},
   "source": [
    "2\\. A farmer with his wolf, duck and bag of corn come to the east side of a river they wish to cross. There is a boat at the rivers edge, but of course only the farmer can row. The boat can only hold two things (including the rower) at any one time. If the wolf is ever left alone with the duck, the wolf will eat it. Similarly if the duck is ever left alone with the corn, the duck will eat it. How can the farmer get across the river so that all four arrive safely on the other side? "
   ]
  },
  {
   "cell_type": "markdown",
   "metadata": {},
   "source": [
    "_your answer here..._ \n",
    "\n",
    "***\n",
    "(1)Farmer takes duck to left bank\n",
    "(2)Farmer teturns alone to right bank\n",
    "(3)Farmer takes wokf to left bank\n",
    "(4)Farmer returns with duck\n",
    "(5)Farmer takes corn to left bank\n",
    "(6)Farmer returns alone\n",
    "(7)Farmer takes duck to left bank\n",
    "(8)Success"
   ]
  },
  {
   "cell_type": "markdown",
   "metadata": {},
   "source": [
    " "
   ]
  },
  {
   "cell_type": "markdown",
   "metadata": {},
   "source": [
    "3\\.Explain why we determine our problem goals before we write the problem formulation (including the model and deciding what algorithm or techniques to use - for example search, or other method).\n",
    "\n",
    "See Chapter3.1 (Russel & Norvig)"
   ]
  },
  {
   "cell_type": "markdown",
   "metadata": {},
   "source": [
    "_your answer here..._ \n",
    "\n",
    "****\n",
    "In goal formulation, we decide which aspects of the world we are interested in, and which can be ignored of abstracted away. Then in problem formulation we decide how to manipulate the important aspects(and ignore the others). If we did problem formulation first we would not know what to include and what to leave out. That said, it can happen that there is a cycle of iterations between goal formulation, problem formulation and problem solving until one arrives at a sufficiently useful and efficient solution."
   ]
  },
  {
   "cell_type": "markdown",
   "metadata": {},
   "source": [
    "4\\. This question requires you to perform BFS and DFS on paper.\n",
    "\n",
    "<img src=\"img/p1.png\" width=\"180\" height=\"180\" >\n",
    "\n",
    "1. Simulate (on pencil-and-paper) breadth-first search starting from node A when the goal node is K.\n",
    "2. Simulate (on pencil-and-paper) depth first search starting from node A when the goal node is I.\n"
   ]
  },
  {
   "cell_type": "markdown",
   "metadata": {},
   "source": [
    "***\n",
    "<img src=\"img/4.jpg\" width=\"30%\">"
   ]
  },
  {
   "cell_type": "markdown",
   "metadata": {},
   "source": [
    "5\\.Consider a state space where the start state is number 1 and each state  k has two successors: numbers 2k and 2k + 1.\n",
    "- a. Draw the portion of the state space for states 1 to 15.\n",
    "- b. Suppose the goal state is 11. List the order in which nodes will be visited for breadthfirst\n",
    "search, depth-limited search with limit 3, and iterative deepening search.\n",
    "- c. How well would bidirectional search work on this problem? What is the branching\n",
    "factor in each direction of the bidirectional search?\n",
    "- d. Does the answer to (c) suggest a reformulation of the problem that would allow you to\n",
    "solve the problem of getting from state 1 to a given goal state with almost no search?\n",
    "- e. Call the action going from k to 2k Left, and the action going to 2k + 1 Right. Can you\n",
    "find an algorithm that outputs the solution to this problem without any search at all?\n",
    "\n",
    "See textbook Chapter3.15"
   ]
  },
  {
   "cell_type": "markdown",
   "metadata": {},
   "source": [
    "a.\n",
    "<img src=\"img/5a.jpg\" width=\"30%\">\n",
    "\n",
    "b.\n",
    "BFS:1,2,3,4,5,6,7,8,9,10,11\n",
    "DFS:1,2,4,8,9,5,10,11\n",
    "Iterative deepeding search:1,1,2,3,1,2,4,5,3,6,7,1,2,4,8,9,5,10,11\n",
    "\n",
    "c.\n",
    "Bidirectional search is very useful,because the only successor of n is the reverse direction is (n/2)(向下取整). This helps focus the search. The branching factor is 2 in the forward direction;1 in the reverse direction.\n",
    "\n",
    "d.\n",
    "Yes, start at the goal, and apply the single revrse successor action until you reach1.\n",
    "\n",
    "e.\n",
    "The solution can be read off the binary numeral for the goal number, Write the goal number in binary. Since we can only reach positive integers, this binary expansion beings with a 1. From most- to least-significant bit, skipping the initial1, go left to the node 2n if this bit is 0 and go right to node 2n+1 if it is 1. For example, suppose the goal is 11, which is 1011. The solution is therefore left,right,right.\n"
   ]
  },
  {
   "cell_type": "markdown",
   "metadata": {},
   "source": [
    "### Programming Excercises"
   ]
  },
  {
   "cell_type": "markdown",
   "metadata": {},
   "source": [
    "1\\.Write a program to solve a classic ancient Chinese puzzle:  \n",
    " We count 35 heads and 94 legs among the chickens and rabbits in a farm. How many rabbits and how many chickens do we have? "
   ]
  },
  {
   "cell_type": "code",
   "execution_count": 25,
   "metadata": {},
   "outputs": [
    {
     "name": "stdout",
     "output_type": "stream",
     "text": [
      "(23, 12)\n"
     ]
    }
   ],
   "source": [
    "##Hint:Use for loop to iterate all possible\n",
    "## write your answer here!\n",
    "def puzzle(heads,legs):\n",
    "    \n",
    "    for chickens in range (0,heads):\n",
    "        rabbits = heads - chickens\n",
    "        if(chickens*2+rabbits*4==legs):\n",
    "            return chickens,rabbits\n",
    "\n",
    "print(puzzle(35,94))"
   ]
  },
  {
   "cell_type": "markdown",
   "metadata": {},
   "source": [
    "2\\. _Social networking_ Please look at the graph below of social relationships. You have a mango farm, you need to find a mango buyer and sell him your mango that you have grown (just a small farm). To this end, our principle is to use our social network of friends separated by one degree, and then second degree friends (friends of friends), third degree friends (friends of friends of friends).\n",
    "\n",
    "Use the depth first algorithm to search your network until you find a mango seller. \n",
    "\n",
    "We make an assumption that if the person's name ends with m, then it means the person must be the mango seller!\n",
    "\n",
    "\n",
    "<img src=\"img/p3.png\" width=\"500\" height=\"400\" >"
   ]
  },
  {
   "cell_type": "code",
   "execution_count": null,
   "metadata": {},
   "outputs": [],
   "source": [
    "## write your answer here!\n",
    "total=['you']\n",
    "print (len(total[0]))\n",
    "s=total[0]\n",
    "print(s[2]=='u')\n",
    "\n",
    "list=['you','bob','alice','claire','anuj','peggy','jonny','thom']\n",
    "friends=[[0,1,1,1,0,0,0,0],\n",
    "         [1,0,0,0,1,1,0,0],\n",
    "         [1,0,0,0,0,1,0,0],\n",
    "         [1,0,0,0,0,0,1,1],\n",
    "         [0,1,0,0,0,0,0,0],\n",
    "         [0,1,1,0,0,0,0,0],\n",
    "         [0,0,0,1,0,0,0,0],\n",
    "         [0,0,0,1,0,0,0,0]]\n",
    "\n",
    "stack=[0]\n",
    "visted=[0]\n",
    "\n",
    "while(len(visted)!=8):\n",
    "    top=len(stack)\n",
    "    i=stack[top-1]\n",
    "    for j in range(8):\n",
    "        if(friends[i][j]!=0):\n",
    "            stack.append(j)\n",
    "            visted.append(j)\n",
    "            print(stack)\n",
    "            print(visted)\n",
    "            top = top+1\n",
    "            break\n",
    "      \n"
   ]
  },
  {
   "cell_type": "markdown",
   "metadata": {},
   "source": [
    "3\\. Depth First traverse：Use depth first traversal to traverse all the DLL files on the C disk and output the file names.\n",
    "\n",
    "Update your code to search for a particular filename.\n",
    "\n",
    "What protocol did you use to select the next node to expand on the fringe?"
   ]
  },
  {
   "cell_type": "code",
   "execution_count": 21,
   "metadata": {},
   "outputs": [],
   "source": [
    "## write your answer here!\n",
    "import os\n",
    "import fnmatch\n",
    " \n",
    "def main():\n",
    "    f = open('dllDFS_list.txt', 'w')\n",
    "    for root, dirs, files in os.walk('c:\\\\'):\n",
    "        for name in files:\n",
    "            if fnmatch.fnmatch(name,'*.dll'):\n",
    "                f.write(os.path.join(root, name))\n",
    "                f.write('\\n')\n",
    "    f.close()\n",
    "\n",
    "if(__name__=='__main__'):\n",
    "    main()\n"
   ]
  },
  {
   "cell_type": "markdown",
   "metadata": {},
   "source": [
    "4\\.\n",
    "Breadth First traverse：Use breadth traversal to traverse all the DLL files on the C disk and output the filename.\n",
    "\n",
    "Update your code to search for a particular filename."
   ]
  },
  {
   "cell_type": "code",
   "execution_count": 58,
   "metadata": {},
   "outputs": [],
   "source": [
    "## write your answer here!\n",
    "import os\n",
    "path = r'C:\\\\'\n",
    "\n",
    "def get_all(path):\n",
    "    tmp = [path]\n",
    "    while len(tmp):\n",
    "        a = tmp.pop(0)\n",
    "        l = os.listdir(a)\n",
    "        for name in l:\n",
    "            new_path = os.path.join(a,name)\n",
    "            if os.path.isdir('*.dll'):\n",
    "                print(new_path)\n",
    "                tmp.append(name)\n",
    "            else:\n",
    "                print(new_path) \n",
    "        print(tmp)\n",
    "get_all(path)"
   ]
  },
  {
   "cell_type": "markdown",
   "metadata": {},
   "source": [
    "5\\. Uniform cost search"
   ]
  },
  {
   "cell_type": "markdown",
   "metadata": {},
   "source": [
    "Consider a state space where the start state is 2 and each state k has three successors: numbers 2k, 2k+1, 2k+2. The cost from state k to each respective child is k, ground(k/2), k+2.\n",
    "\n",
    "can you implement a uniform-cost-search algorithm with python. The goal state is number 85."
   ]
  },
  {
   "cell_type": "code",
   "execution_count": 59,
   "metadata": {},
   "outputs": [
    {
     "name": "stdout",
     "output_type": "stream",
     "text": [
      "53\n"
     ]
    }
   ],
   "source": [
    "import math\n",
    "goal = 85\n",
    "state = [-1]*(goal+1)\n",
    "state[2]=0\n",
    "for k in range(2,int(goal/2)+1):\n",
    "    if state[k]<0: \n",
    "        continue\n",
    "    for pos,cost in[(k*2,k),(k*2+1,math.floor(k/2)),(k*2+2,k+2)]:\n",
    "        if pos>goal:\n",
    "            continue\n",
    "        if state[pos]==-1 or state[pos]>state[k]+cost:\n",
    "            state[pos] = state[k]+cost\n",
    "\n",
    "print(state[goal])\n",
    "        "
   ]
  },
  {
   "cell_type": "markdown",
   "metadata": {},
   "source": [
    "6\\.a* question"
   ]
  },
  {
   "cell_type": "markdown",
   "metadata": {},
   "source": [
    "A cute cat stays in the A position, he is hungry. But the food is placed in the B position. Can you help him to find the food? \n",
    "Hint:  The problem isn't easy. It's essential for you to understand the A* algorithm before you solve this problem. Then, you can use some thought of Node in java, when you are in code.\n",
    "\n",
    "<img src=\"img/p4.png\" width=\"500\" height=\"400\" >\n"
   ]
  },
  {
   "cell_type": "code",
   "execution_count": 1,
   "metadata": {},
   "outputs": [],
   "source": [
    "## write your answer here!"
   ]
  },
  {
   "cell_type": "code",
   "execution_count": null,
   "metadata": {},
   "outputs": [],
   "source": []
  },
  {
   "cell_type": "code",
   "execution_count": null,
   "metadata": {},
   "outputs": [],
   "source": []
  },
  {
   "cell_type": "code",
   "execution_count": null,
   "metadata": {},
   "outputs": [],
   "source": []
  }
 ],
 "metadata": {
  "kernelspec": {
   "display_name": "Python 3",
   "language": "python",
   "name": "python3"
  },
  "language_info": {
   "codemirror_mode": {
    "name": "ipython",
    "version": 3
   },
   "file_extension": ".py",
   "mimetype": "text/x-python",
   "name": "python",
   "nbconvert_exporter": "python",
   "pygments_lexer": "ipython3",
   "version": "3.6.5"
  }
 },
 "nbformat": 4,
 "nbformat_minor": 2
}
