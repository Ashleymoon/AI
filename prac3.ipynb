{
 "cells": [
  {
   "cell_type": "markdown",
   "metadata": {},
   "source": [
    "# Introduction to Artificial Intelligence for Non Computing"
   ]
  },
  {
   "cell_type": "markdown",
   "metadata": {},
   "source": [
    "## Practical 3 (weeks 5 - 6)"
   ]
  },
  {
   "cell_type": "markdown",
   "metadata": {},
   "source": [
    "The following links provide additional information about data analysis , machine learning and Numpy"
   ]
  },
  {
   "cell_type": "markdown",
   "metadata": {},
   "source": [
    "Python data analysis: https://www.imooc.com/learn/843\n",
    "machine learning: https://www.imooc.com/learn/717\n",
    "Numpy :https://www.imooc.com/learn/943"
   ]
  },
  {
   "cell_type": "markdown",
   "metadata": {},
   "source": [
    "#### Theory Questions"
   ]
  },
  {
   "cell_type": "markdown",
   "metadata": {},
   "source": [
    "1\\.Which of the following are true and which are false? Give brief explanations.\n",
    "- a. In a fully observable, turn-taking, zero-sum game between two perfectly rational players,it does not help the first player to know what strategy the second player is using—that is, what move the second player will make, given the first player's move.\n",
    "- b. In a partially observable, turn-taking, zero-sum game between two perfectly rational players, it does not help the first player to know what move the second player will make, given the first player's move.\n",
    "- c. A perfectly rational backgammon agent never loses.\n",
    "\n",
    "See textbook Chapter6 24.6"
   ]
  },
  {
   "cell_type": "markdown",
   "metadata": {},
   "source": [
    "_your answer here..._ \n",
    "\n",
    "***\n",
    "True\n",
    "False\n",
    "False"
   ]
  },
  {
   "cell_type": "markdown",
   "metadata": {},
   "source": [
    "2\\.Define in your own words the terms constraint, backtracking search, arc consistency,backjumping, min-conflicts, and cycle cutset.\n",
    "\n",
    "See textbook Chapter6 6.16"
   ]
  },
  {
   "cell_type": "markdown",
   "metadata": {},
   "source": [
    "_your answer here..._ \n",
    "\n",
    "***\n",
    "constraint: something that limit the problem\n",
    "backtracking search:Using in depth First Search with checks on assignmens\n",
    "arc consistency:all variables in domain satisfy constraint\n",
    "backjumping:How far will back\n",
    "min-conflicts:make varibles assignment approprate value\n",
    "cycle cutset:after deletign cycle cutset, consistency map become a tree."
   ]
  },
  {
   "cell_type": "markdown",
   "metadata": {},
   "source": [
    "3\\.Explain why it is a good heuristic to choose the variable that is most constrained but the value that is least constraining in a CSP search.\n",
    "\n",
    "See textbook Chapter6 6.9"
   ]
  },
  {
   "cell_type": "markdown",
   "metadata": {},
   "source": [
    "_your answer here..._ \n",
    "\n",
    "***\n",
    "To decrease matching time to improve efficiency"
   ]
  },
  {
   "cell_type": "markdown",
   "metadata": {},
   "source": [
    "4\\.Consider the following procedure for choosing moves in games with chance nodes: \n",
    "- 1、Generate some dice-roll sequences (say, 50) down to a suitable depth (say, 8).\n",
    "- 2、With known dice rolls, the game tree becomes deterministic. For each dice-roll sequence,solve the resulting deterministic game tree using alpha-beta.\n",
    "- 3、Use the results to estimate the value of each move and to choose the best.Will this procedure work well? Why (or why not)?\n",
    "\n",
    "See textbook Chapter5 5.19"
   ]
  },
  {
   "cell_type": "markdown",
   "metadata": {},
   "source": [
    "_your answer here..._ \n",
    "\n",
    "***\n"
   ]
  },
  {
   "cell_type": "markdown",
   "metadata": {},
   "source": [
    "5\\. Now,please consider this game:  there are three plates A, B and C, each plate has three bills. A puts 1, 20, 50; B puts 5, 10, 100; C puts 1, 5, 20. All units are \"Yuan\". There are two persons A and B, and two of them can check out three plates and banknotes .（ A is ourself, The other is B）\n",
    "The game is divided into three steps: \n",
    "- 1、A select a plate from three plate.\n",
    "- 2、B take out two banknotes from A selected plate,and give the  banknotes to A.  \n",
    "- 3、A take one of the two banknotes, and take it away.among,A want to get the max banknotes, B want to let A to get the min.\n",
    "\n",
    "Try to understand the minimax algorithm，you can click the link:https://blog.csdn.net/tangchenyi/article/details/22920031"
   ]
  },
  {
   "cell_type": "markdown",
   "metadata": {},
   "source": [
    "_your answer here..._ \n",
    "\n",
    "***\n",
    "If A choose A plate, then B would choose 1 and 20. So A finally get 20.\n",
    "If A choose B plate, then B would choose 5 and 10. So A finally get 10.\n",
    "If A choose C plate, then B would choose 1 and 5. So A finally get 5.\n",
    "So A best choose A plate."
   ]
  },
  {
   "cell_type": "markdown",
   "metadata": {},
   "source": [
    "### Programming Excercises"
   ]
  },
  {
   "cell_type": "markdown",
   "metadata": {},
   "source": [
    "1\\. Guess number(Single number): please generate a randomly number  with the function (random), then ask someone to guess the number,I think we should give the corresponding hint, otherwise it will be very difficult to guess the number.the game will be over untill you get the right number."
   ]
  },
  {
   "cell_type": "code",
   "execution_count": 50,
   "metadata": {},
   "outputs": [
    {
     "name": "stdout",
     "output_type": "stream",
     "text": [
      "input:5\n",
      "smaller\n",
      "input: 8\n",
      "larger\n",
      "input: 6\n",
      "\n",
      "success\n",
      "6\n"
     ]
    }
   ],
   "source": [
    "## write your answer here!\n",
    "import random\n",
    "\n",
    "x=random.randint(1,9)\n",
    "\n",
    "def judge(a,b):\n",
    "    if a>b:\n",
    "        print(\"larger\")\n",
    "    if a<b:\n",
    "        print(\"smaller\")\n",
    "            \n",
    "y = int(input(\"input:\"))    \n",
    "while y!=x:\n",
    "    judge(y,x)\n",
    "    y=int(input(\"input: \"))\n",
    "\n",
    "print()\n",
    "print(\"success\")\n",
    "print(x)"
   ]
  },
  {
   "cell_type": "markdown",
   "metadata": {},
   "source": [
    "2\\.if you had understand the guess single number games,Congratulates,next is the guess three number games,Maybe you can do it well.But this is a different way of thinking. \n",
    "first : we need generate three numbers,there are most ten times chances give  you to guess the number,of course,we also give you some cue.\n",
    "\n",
    "- 'When I say:-->It means:\n",
    "- 'error--> The 3 numbers are not in the mystical numbers.'\n",
    "- 'Only the number is correct --> the number is right , but the position is not right.'\n",
    "- 'Absolutely right--> numbers is right and the position also right.'\n",
    "\n",
    "Maybe it's better for you to understand the rule well through see the picture.\n",
    "<div style=\"float:left;\" ><img src=\"img/p1.png\" width=\"400\" height=\"300\" >"
   ]
  },
  {
   "cell_type": "code",
   "execution_count": 25,
   "metadata": {},
   "outputs": [
    {
     "name": "stdout",
     "output_type": "stream",
     "text": [
      "Guess a number between 100 to 999:\n",
      "This is 1 time: 963\n",
      "error\n",
      "Only the number is correct\n",
      "error\n",
      "\n",
      "This is 2 time: 654\n",
      "Only the number is correct\n",
      "Absolutely right\n",
      "error\n",
      "\n",
      "This is 3 time: 456\n",
      "error\n",
      "Absolutely right\n",
      "Absolutely right\n",
      "\n",
      "This is 4 time: 256\n",
      "error\n",
      "Absolutely right\n",
      "Absolutely right\n",
      "\n",
      "This is 5 time: 156\n",
      "Absolutely right\n",
      "Absolutely right\n",
      "Absolutely right\n",
      "success guess this number:156\n"
     ]
    }
   ],
   "source": [
    "## write your answer here!\n",
    "import random\n",
    "\n",
    "def exchange(x):    \n",
    "    a = int(x/100)\n",
    "    b = int(x%100 / 10)\n",
    "    c = int(x%100%10)\n",
    "    return (a,b,c)\n",
    "\n",
    "def judge(a,b):\n",
    "    guess = True\n",
    "    for i in range(0,3):\n",
    "        error = True\n",
    "        for j in range(0,3):\n",
    "        \n",
    "            while b[i] == a[j]:\n",
    "                error = False\n",
    "                if i==j:\n",
    "                    print(\"Absolutely right\")\n",
    "                    break\n",
    "                elif i!=j:\n",
    "                    print(\"Only the number is correct\")\n",
    "                    guess = False\n",
    "                    break\n",
    "        if error:\n",
    "            print(\"error\")\n",
    "            guess = False\n",
    "    return guess\n",
    "\n",
    "def main():\n",
    "    print(\"Guess a number between 100 to 999:\")\n",
    "    x=random.randint(100,999)\n",
    "    y = int(input(\"This is 1 time: \"))\n",
    "    i = 1\n",
    "    while not (judge(exchange(x),exchange(y))):\n",
    "        i = i+1\n",
    "        print()\n",
    "        y = int(input(\"This is \" + str(i) + \" time: \"))\n",
    "    print(\"success guess this number:\" + str(x))    \n",
    "\n",
    "main()    "
   ]
  },
  {
   "cell_type": "markdown",
   "metadata": {},
   "source": [
    "3\\.please try using Python's Tkinter to make a visual interface（GUI）.if you don't know anything.Maybe you can refer to the below interface.and implement it by code.\n",
    "\n",
    "<div style=\"float:left;\" ><img src=\"img/p2.png\" width=\"200\" height=\"200\" >"
   ]
  },
  {
   "cell_type": "code",
   "execution_count": 1,
   "metadata": {},
   "outputs": [],
   "source": [
    "## write your answer\n",
    "from tkinter import *\n",
    "\n",
    "root = Tk()\n",
    "\n",
    "a = [\"java\", \"SQL\", \"html\", \"php\", \"python\", \"C\"]\n",
    "b = [\"Bootstrap\", \"jQuery\", \"CSS\"]\n",
    "\n",
    "lista = Listbox(root)\n",
    "listb = Listbox(root)\n",
    "\n",
    "for item in a:\n",
    "    lista.insert(0, item)\n",
    "\n",
    "for item in b:\n",
    "    listb.insert(0, item)\n",
    "\n",
    "lista.pack()\n",
    "listb.pack()\n",
    "root.mainloop()"
   ]
  },
  {
   "cell_type": "markdown",
   "metadata": {},
   "source": [
    "4\\.Through the initial trial of Tkinter,    please write a simple calculator.\n",
    "\n",
    "<div style=\"float:left;\" ><img src=\"img/p3.png\" width=\"180\" height=\"200\" center=\"left\"></div>\n",
    "<div style=\"float:left;\" ><img src=\"img/p4.png\" width=\"180\" height=\"200\" center=\"right\" ></div>"
   ]
  },
  {
   "cell_type": "code",
   "execution_count": 1,
   "metadata": {},
   "outputs": [],
   "source": [
    "## write your answer here!\n",
    "from tkinter import *\n",
    "from tkinter.ttk import *\n",
    "\n",
    "def frame(master):\n",
    "    w = Frame(master)\n",
    "    w.pack(side=TOP, expand=YES, fill=BOTH, pady=4)\n",
    "    return w\n",
    "\n",
    "def button(master, text, command):\n",
    "    w = Button(master, text=text, command=command, width=5)\n",
    "    w.pack(side=LEFT, expand=YES, fill=BOTH, padx=3, pady=5)\n",
    "    return w\n",
    "\n",
    "def calc(text):\n",
    "    try:\n",
    "        if (cal_flag.get() == 0):\n",
    "            return eval(text)\n",
    "        else:\n",
    "            return calculate(str(eval(text)))\n",
    "    except:\n",
    "        return 'Error'\n",
    "\n",
    "def calculate(text):\n",
    "    float_index = text.find('.')\n",
    "    if float_index > 0:\n",
    "        text_head = text[:float_index]\n",
    "        text_tail = text[float_index:]\n",
    "    elif float_index < 0:\n",
    "        text_head = text\n",
    "        text_tail = ''\n",
    "    else:\n",
    "        text_head = ''\n",
    "        text_tail = text\n",
    "\n",
    "    list_ = [char for char in text_head]\n",
    "    length = len(list_)\n",
    "    tmp_index = 3\n",
    "    while length - tmp_index > 0:\n",
    "        list_.insert(length - tmp_index, ',')\n",
    "        tmp_index += 3\n",
    "    list_.extend(text_tail)\n",
    "    new_text = ''\n",
    "    for char in list_:\n",
    "        new_text += char\n",
    "\n",
    "    return new_text\n",
    "\n",
    "root = Tk()\n",
    "root.title(\"simple Calculator\")\n",
    "text = StringVar()\n",
    "cal_flag = IntVar()\n",
    "cal_flag.set(0)\n",
    "Entry(root, textvariable=text).pack(expand=YES, fill=BOTH, padx=25, pady=10)\n",
    "\n",
    "style = Style()\n",
    "style.configure('TButton', padding=20)\n",
    "addbtn = frame(root)\n",
    "button(addbtn, 'C', lambda t=text: t.set(''))\n",
    "button(addbtn, '±', lambda t=text: t.set('-('+t.get()+')'))\n",
    "button(addbtn, '←', lambda t=text: t.set(''))\n",
    "button(addbtn, 'CE', lambda t=text: t.set(''))\n",
    "\n",
    "for key in ('1234', '5678', '.90=', '+-*/'):\n",
    "    cal = frame(root)\n",
    "    for char in key:\n",
    "        if char == '=':\n",
    "            button(cal, char, lambda t=text: t.set(calc(t.get())))\n",
    "        else:\n",
    "            button(cal, char, lambda t=text, c=char: t.set(t.get()+c))\n",
    "\n",
    "root.mainloop()\n"
   ]
  },
  {
   "cell_type": "markdown",
   "metadata": {},
   "source": [
    "5\\.Ball game:Python's pinball game, which can realize the game function of the keyboard control bottom baffle moving collision ball similar to table tennis game. \n",
    "\n",
    "<div style=\"float:left;\" ><img src=\"img/p5.png\" width=\"200\" height=\"200\" center=\"left\"></div>\n",
    "<div style=\"float:left;\" ><img src=\"img/p6.png\" width=\"200\" height=\"200\" center=\"right\" ></div>\n"
   ]
  },
  {
   "cell_type": "markdown",
   "metadata": {},
   "source": [
    "this is a step:how to install the matplotlib,you can reference this link:https://blog.csdn.net/not_give_up_/article/details/79058272\n",
    "1. Ball Class\n",
    "    draw is responsible for moving Ball\n",
    "    Collision detection, bounce, Ball detection of Paddle \n",
    "2. Paddle Class\n",
    "    draw is responsible for moving Paddle\n",
    "    Collision detection to determine whether or not to continue ,Monitor keyboard events\n",
    "3. main cycle\n",
    "    Drawing the Ball and Paddle"
   ]
  },
  {
   "cell_type": "code",
   "execution_count": null,
   "metadata": {},
   "outputs": [],
   "source": [
    "## write your answer here!"
   ]
  }
 ],
 "metadata": {
  "kernelspec": {
   "display_name": "Python 3",
   "language": "python",
   "name": "python3"
  },
  "language_info": {
   "codemirror_mode": {
    "name": "ipython",
    "version": 3
   },
   "file_extension": ".py",
   "mimetype": "text/x-python",
   "name": "python",
   "nbconvert_exporter": "python",
   "pygments_lexer": "ipython3",
   "version": "3.6.5"
  }
 },
 "nbformat": 4,
 "nbformat_minor": 2
}
